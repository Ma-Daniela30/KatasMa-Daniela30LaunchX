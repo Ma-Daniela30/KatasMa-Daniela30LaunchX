{
  "cells": [
    {
      "cell_type": "markdown",
      "metadata": {},
      "source": [
        "# Ejercicio: Uso de funciones en Python"
      ]
    },
    {
      "cell_type": "markdown",
      "metadata": {},
      "source": [
        "### Ejercicio 1: Trabajar con argumentos en funciones\n",
        "\n",
        "Los argumentos requeridos en las funciones se utilizan cuando las funciones necesitan que esos argumentos funcionen correctamente. En este ejercicio, construirás un informe de combustible que requiere información de varias ubicaciones de combustible en todo el cohete.\n",
        "\n"
      ]
    },
    {
      "cell_type": "markdown",
      "metadata": {},
      "source": [
        "> **TIP**\n",
        "> Dedica unos minutos para tratar de encontrar una solución. Luego desplázate hacia abajo hasta la parte inferior para ver si has logrado compilar el programa de acuerdo con las especificaciones\n",
        "\n",
        "Comienza por crear una función que necesite tres lecturas de combustible y devuelva un informe:"
      ]
    },
    {
      "cell_type": "code",
      "execution_count": 13,
      "metadata": {},
      "outputs": [],
      "source": [
        "# Función para leer 3 tanques de combustible y muestre el promedio\n",
        "def informe_combustible(conbustible1, conbustible2, conbustible3):\n",
        "    promedio=(conbustible1+conbustible2+conbustible3)/3\n",
        "    return f\"\"\" Ubicaciones de combustible \n",
        "    Combustible en el tanque 1(Oxigeno): {conbustible1}%, \n",
        "    Combustible en el tanque 2(Hidrogeno): {conbustible2}%, \n",
        "    Combustible en el tanque 3(hidrazina): {conbustible3}%,\n",
        "    El promedio del conbustible es: {promedio}%\"\"\""
      ]
    },
    {
      "cell_type": "markdown",
      "metadata": {},
      "source": [
        "Ahora que hemos definido la función de informes, vamos a comprobarlo. Para esta misión, los tanques no están llenos:"
      ]
    },
    {
      "cell_type": "code",
      "execution_count": 14,
      "metadata": {},
      "outputs": [
        {
          "name": "stdout",
          "output_type": "stream",
          "text": [
            " Ubicaciones de combustible \n",
            "    Combustible en el tanque 1(Oxigeno): 80%, \n",
            "    Combustible en el tanque 2(Hidrogeno): 70%, \n",
            "    Combustible en el tanque 3(hidrazina): 85%,\n",
            "    El promedio del conbustible es: 78.33333333333333%\n"
          ]
        }
      ],
      "source": [
        "\n",
        "# Llamamos a la función que genera el reporte print(funcion(tanque1, tanque2, tanque3))\n",
        "print(informe_combustible(80, 70, 85))"
      ]
    },
    {
      "cell_type": "markdown",
      "metadata": {},
      "source": [
        "En lugar de simplemente crear el informe, la función también está calculando el promedio. Mejora la legibilidad extrayendo el cálculo promedio de la función en una nueva función para que el promedio se pueda hacer de forma independiente:"
      ]
    },
    {
      "cell_type": "code",
      "execution_count": 17,
      "metadata": {},
      "outputs": [],
      "source": [
        "# Función promedio \n",
        "def promedio(vector_datos):\n",
        "    tamano=len(vector_datos)\n",
        "    sumatoria=0\n",
        "    for dato in vector_datos:\n",
        "        sumatoria+=dato\n",
        "    \n",
        "    return sumatoria/tamano"
      ]
    },
    {
      "cell_type": "markdown",
      "metadata": {},
      "source": [
        "Ahora actualiza la función de informes para llamando a la nueva función del promedio:\n"
      ]
    },
    {
      "cell_type": "code",
      "execution_count": 18,
      "metadata": {},
      "outputs": [
        {
          "name": "stdout",
          "output_type": "stream",
          "text": [
            " Ubicaciones de combustible \n",
            "    Combustible en el tanque 1(Oxigeno): 80%, \n",
            "    Combustible en el tanque 2(Hidrogeno): 70%, \n",
            "    Combustible en el tanque 3(hidrazina): 85%,\n",
            "    El promedio del conbustible es: 78.33333333333333%\n"
          ]
        }
      ],
      "source": [
        "# Actualiza la función\n",
        "def informe_combustible(conbustible1, conbustible2, conbustible3):\n",
        "    tanques=[conbustible1,conbustible2,conbustible3]\n",
        "    return f\"\"\" Ubicaciones de combustible \n",
        "    Combustible en el tanque 1(Oxigeno): {conbustible1}%, \n",
        "    Combustible en el tanque 2(Hidrogeno): {conbustible2}%, \n",
        "    Combustible en el tanque 3(hidrazina): {conbustible3}%,\n",
        "    El promedio del conbustible es: {promedio(tanques)}%\"\"\"\n",
        "\n",
        "print(informe_combustible(80, 70, 85))"
      ]
    },
    {
      "cell_type": "markdown",
      "metadata": {},
      "source": [
        "> Recuerda: Lo importante es intentarlo, puedes auxiliarte de internet, libros, etc. El objetivo de una kata es la comprobación de la comprensión de la lección y su aplicación inmediata a la resolución de problemas. Go for it!"
      ]
    },
    {
      "cell_type": "markdown",
      "metadata": {},
      "source": [
        "## Ejercicio 2: Trabajo con argumentos de palabra clave"
      ]
    },
    {
      "cell_type": "markdown",
      "metadata": {},
      "source": [
        "### Ejercicio : Trabajar con argumentos de palabras clave en funciones\n",
        "En este ejercicio, construirás un informe de cohete que requiere varias piezas de información, como el tiempo hasta el destino, el combustible a la izquierda y el nombre del destino. Comienza por crear una función que creará un informe preciso de la misión:"
      ]
    },
    {
      "cell_type": "code",
      "execution_count": 20,
      "metadata": {},
      "outputs": [
        {
          "name": "stdout",
          "output_type": "stream",
          "text": [
            "INFORME PRECISO DE LA MISION\n",
            "    Hora de prelanzamiento:14,\n",
            "    Tiempo de vuelo:51,\n",
            "    Destino:Moon\n",
            "    Tanque Externo:200000\n",
            "    Tanque Interno:300000\n",
            "    Total del Tiempo estimado:65\n",
            "    Total en el tanque Izquierdo:500000\n"
          ]
        }
      ],
      "source": [
        "# Función con un informe preciso de la misión. Considera hora de prelanzamiento, tiempo de vuelo, destino, tanque externo y tanque interno\n",
        "def informe_presion_mision(hora,tiempo_vuelo,destino,tanque_externo,tanque_interno):\n",
        "    return f\"\"\"INFORME PRECISO DE LA MISION\n",
        "    Destino:{destino},\n",
        "    Hora de prelanzamiento:{hora},\n",
        "    Tiempo de vuelo:{tiempo_vuelo},\n",
        "    Tanque Externo:{tanque_externo},\n",
        "    Tanque Interno:{tanque_interno},\n",
        "    Total del Tiempo estimado:{hora+tiempo_vuelo},\n",
        "    Total en el tanque Izquierdo:{tanque_interno+tanque_externo}\"\"\"\n",
        "\n",
        "print(informe_presion_mision(14, 51, \"Moon\", 200000, 300000))"
      ]
    },
    {
      "cell_type": "markdown",
      "metadata": {},
      "source": [
        "La función es problemática porque no se puede adaptar para minutos adicionales o tanques adicionales de combustible. Hazlo más flexible permitiendo cualquier número de pasos basados en el tiempo y cualquier número de tanques. En lugar de usar `*args` y `**kwargs`, aprovecha el hecho de que puedes usar cualquier nombre que desees. Asegurate que la función sea más legible mediante el uso de nombres de variables que están asociados con las entradas, como `*minutes` y `**fuel_reservoirs`:"
      ]
    },
    {
      "cell_type": "code",
      "execution_count": 24,
      "metadata": {},
      "outputs": [
        {
          "name": "stdout",
          "output_type": "stream",
          "text": [
            "INFORME PRECISO DE LA MISION\n",
            "    Destino:Moon,\n",
            "    Total del Tiempo estimado:65,\n",
            "    Total en el tanque Izquierdo:500000\n"
          ]
        }
      ],
      "source": [
        "# Escribe tu nueva función de reporte considerando lo anterior\n",
        "def informe_presion_mision2(destino,*minutes,**revision_tanques):\n",
        "    return f\"\"\"INFORME PRECISO DE LA MISION\n",
        "    Destino:{destino},\n",
        "    Total del Tiempo estimado:{sum(minutes)},\n",
        "    Total en el tanque Izquierdo:{sum(revision_tanques.values())}\"\"\"\n",
        "\n",
        "print(informe_presion_mision2(\"Moon\",14, 51, TanqueInterno=200000, tanqueExterno=300000))"
      ]
    },
    {
      "cell_type": "markdown",
      "metadata": {},
      "source": [
        "Debido a que el combustible que queda en los tanques es específico de cada tanque, actualiza la función para usar el nombre de cada tanque en el informe:"
      ]
    },
    {
      "cell_type": "code",
      "execution_count": 43,
      "metadata": {},
      "outputs": [
        {
          "name": "stdout",
          "output_type": "stream",
          "text": [
            "INFORME PRECISO DE LA MISION\n",
            "    Destino:Moon,\n",
            "    Total del Tiempo estimado:65,\n",
            "    Total en el tanque Izquierdo:500000,\n",
            "    Tanque_Interno:200000,\n",
            "    Tanque_Externo:300000,\n",
            "    \n"
          ]
        }
      ],
      "source": [
        "# Escribe tu nueva función\n",
        "def informe_presion_mision2(destino,*minutes,**revision_tanques):\n",
        "    informacion=f\"\"\"INFORME PRECISO DE LA MISION\n",
        "    Destino:{destino},\n",
        "    Total del Tiempo estimado:{sum(minutes)},\n",
        "    Total en el tanque Izquierdo:{sum(revision_tanques.values())},\n",
        "    \"\"\"\n",
        "    for tanque in revision_tanques.items():\n",
        "            informacion+=f\"\"\"{tanque[0]}:{tanque[1]},\n",
        "    \"\"\"\n",
        "    return informacion\n",
        "\n",
        "print(informe_presion_mision2(\"Moon\",14, 51, Tanque_Interno=200000, Tanque_Externo=300000))"
      ]
    }
  ],
  "metadata": {
    "interpreter": {
      "hash": "205095b8b86ea82a021a8fc2ffba2b3bc9f8d0be25999901963b225939f75778"
    },
    "kernelspec": {
      "display_name": "Python 3.8.10 64-bit ('tmp': conda)",
      "name": "python3"
    },
    "language_info": {
      "codemirror_mode": {
        "name": "ipython",
        "version": 3
      },
      "file_extension": ".py",
      "mimetype": "text/x-python",
      "name": "python",
      "nbconvert_exporter": "python",
      "pygments_lexer": "ipython3",
      "version": "3.10.0"
    },
    "nteract": {
      "version": "nteract-front-end@1.0.0"
    },
    "orig_nbformat": 4
  },
  "nbformat": 4,
  "nbformat_minor": 2
}
